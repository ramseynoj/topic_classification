{
 "cells": [
  {
   "cell_type": "markdown",
   "metadata": {},
   "source": [
    "# Project 2: Topic Classification"
   ]
  },
  {
   "cell_type": "markdown",
   "metadata": {},
   "source": [
    "In this project, you'll work with text data from newsgroup postings on a variety of topics. You'll train classifiers to distinguish between the topics based on the text of the posts. Whereas with digit classification, the input is relatively dense: a 28x28 matrix of pixels, many of which are non-zero, here we'll represent each document with a \"bag-of-words\" model. As you'll see, this makes the feature representation quite sparse -- only a few words of the total vocabulary are active in any given document. The bag-of-words assumption here is that the label depends only on the words; their order is not important.\n",
    "\n",
    "The SK-learn documentation on feature extraction will prove useful:\n",
    "http://scikit-learn.org/stable/modules/feature_extraction.html\n",
    "\n",
    "Each problem can be addressed succinctly with the included packages -- please don't add any more. Grading will be based on writing clean, commented code, along with a few short answers.\n",
    "\n",
    "As always, you're welcome to work on the project in groups and discuss ideas on the course wall, but please prepare your own write-up and write your own code."
   ]
  },
  {
   "cell_type": "code",
   "execution_count": 296,
   "metadata": {
    "collapsed": false
   },
   "outputs": [],
   "source": [
    "# This tells matplotlib not to try opening a new window for each plot.\n",
    "%matplotlib inline\n",
    "\n",
    "# General libraries.\n",
    "import re\n",
    "import numpy as np\n",
    "import matplotlib.pyplot as plt\n",
    "\n",
    "# SK-learn libraries for learning.\n",
    "from sklearn.pipeline import Pipeline\n",
    "from sklearn.neighbors import KNeighborsClassifier\n",
    "from sklearn.linear_model import LogisticRegression\n",
    "from sklearn.naive_bayes import BernoulliNB\n",
    "from sklearn.naive_bayes import MultinomialNB\n",
    "from sklearn.grid_search import GridSearchCV\n",
    "\n",
    "# SK-learn libraries for evaluation.\n",
    "from sklearn.metrics import confusion_matrix\n",
    "from sklearn import metrics\n",
    "from sklearn.metrics import classification_report\n",
    "\n",
    "# SK-learn library for importing the newsgroup data.\n",
    "from sklearn.datasets import fetch_20newsgroups\n",
    "\n",
    "# SK-learn libraries for feature extraction from text.\n",
    "from sklearn.feature_extraction.text import *"
   ]
  },
  {
   "cell_type": "markdown",
   "metadata": {},
   "source": [
    "Load the data, stripping out metadata so that we learn classifiers that only use textual features. By default, newsgroups data is split into train and test sets. We further split the test so we have a dev set. Note that we specify 4 categories to use for this project. If you remove the categories argument from the fetch function, you'll get all 20 categories."
   ]
  },
  {
   "cell_type": "code",
   "execution_count": 297,
   "metadata": {
    "collapsed": false
   },
   "outputs": [
    {
     "name": "stdout",
     "output_type": "stream",
     "text": [
      "('training label shape:', (2034,))\n",
      "('test label shape:', (677,))\n",
      "('dev label shape:', (676,))\n",
      "('labels names:', ['alt.atheism', 'comp.graphics', 'sci.space', 'talk.religion.misc'])\n",
      "2034 2034\n"
     ]
    }
   ],
   "source": [
    "categories = ['alt.atheism', 'talk.religion.misc', 'comp.graphics', 'sci.space']\n",
    "newsgroups_train = fetch_20newsgroups(subset='train',\n",
    "                                      remove=('headers', 'footers', 'quotes'),\n",
    "                                      categories=categories)\n",
    "newsgroups_test = fetch_20newsgroups(subset='test',\n",
    "                                     remove=('headers', 'footers', 'quotes'),\n",
    "                                     categories=categories)\n",
    "\n",
    "num_test = len(newsgroups_test.target)\n",
    "test_data, test_labels = newsgroups_test.data[num_test/2:], newsgroups_test.target[num_test/2:]\n",
    "dev_data, dev_labels = newsgroups_test.data[:num_test/2], newsgroups_test.target[:num_test/2]\n",
    "train_data, train_labels = newsgroups_train.data, newsgroups_train.target\n",
    "\n",
    "print ('training label shape:', train_labels.shape)\n",
    "print ('test label shape:', test_labels.shape)\n",
    "print ('dev label shape:', dev_labels.shape)\n",
    "print ('labels names:', newsgroups_train.target_names)\n",
    "print len(train_data), len(train_labels)\n"
   ]
  },
  {
   "cell_type": "markdown",
   "metadata": {},
   "source": [
    "(1) For each of the first 5 training examples, print the text of the message along with the label."
   ]
  },
  {
   "cell_type": "code",
   "execution_count": 298,
   "metadata": {
    "collapsed": false
   },
   "outputs": [
    {
     "name": "stdout",
     "output_type": "stream",
     "text": [
      "[u\"Hi,\\n\\nI've noticed that if you only save a model (with all your mapping planes\\npositioned carefully) to a .3DS file that when you reload it after restarting\\n3DS, they are given a default position and orientation.  But if you save\\nto a .PRJ file their positions/orientation are preserved.  Does anyone\\nknow why this information is not stored in the .3DS file?  Nothing is\\nexplicitly said in the manual about saving texture rules in the .PRJ file. \\nI'd like to be able to read the texture rule information, does anyone have \\nthe format for the .PRJ file?\\n\\nIs the .CEL file format available from somewhere?\\n\\nRych\", u'\\n\\nSeems to be, barring evidence to the contrary, that Koresh was simply\\nanother deranged fanatic who thought it neccessary to take a whole bunch of\\nfolks with him, children and all, to satisfy his delusional mania. Jim\\nJones, circa 1993.\\n\\n\\nNope - fruitcakes like Koresh have been demonstrating such evil corruption\\nfor centuries.', u\"\\n >In article <1993Apr19.020359.26996@sq.sq.com>, msb@sq.sq.com (Mark Brader) \\n\\nMB>                                                             So the\\nMB> 1970 figure seems unlikely to actually be anything but a perijove.\\n\\nJG>Sorry, _perijoves_...I'm not used to talking this language.\\n\\nCouldn't we just say periapsis or apoapsis?\\n\\n \", u'I have a request for those who would like to see Charley Wingate\\nrespond to the \"Charley Challenges\" (and judging from my e-mail, there\\nappear to be quite a few of you.)  \\n\\nIt is clear that Mr. Wingate intends to continue to post tangential or\\nunrelated articles while ingoring the Challenges themselves.  Between\\nthe last two re-postings of the Challenges, I noted perhaps a dozen or\\nmore posts by Mr. Wingate, none of which answered a single Challenge.  \\n\\nIt seems unmistakable to me that Mr. Wingate hopes that the questions\\nwill just go away, and he is doing his level best to change the\\nsubject.  Given that this seems a rather common net.theist tactic, I\\nwould like to suggest that we impress upon him our desire for answers,\\nin the following manner:\\n\\n1. Ignore any future articles by Mr. Wingate that do not address the\\nChallenges, until he answers them or explictly announces that he\\nrefuses to do so.\\n\\n--or--\\n\\n2. If you must respond to one of his articles, include within it\\nsomething similar to the following:\\n\\n    \"Please answer the questions posed to you in the Charley Challenges.\"\\n\\nReally, I\\'m not looking to humiliate anyone here, I just want some\\nhonest answers.  You wouldn\\'t think that honesty would be too much to\\nask from a devout Christian, would you?  \\n\\nNevermind, that was a rhetorical question.', u'AW&ST  had a brief blurb on a Manned Lunar Exploration confernce\\nMay 7th  at Crystal City Virginia, under the auspices of AIAA.\\n\\nDoes anyone know more about this?  How much, to attend????\\n\\nAnyone want to go?'] [1 3 2 0 2]\n"
     ]
    }
   ],
   "source": [
    "def P1(num_examples=5):\n",
    "    for data, labels in zip(train_data, train_labels):\n",
    "        print train_data[:5], train_labels[:5]\n",
    "        break\n",
    "    \n",
    "P1()"
   ]
  },
  {
   "cell_type": "markdown",
   "metadata": {},
   "source": [
    "(2) Use CountVectorizer to turn the raw training text into feature vectors. You should use the fit_transform function, which makes 2 passes through the data: first it computes the vocabulary (\"fit\"), second it converts the raw text into feature vectors using the vocabulary (\"transform\").\n",
    "\n",
    "The vectorizer has a lot of options. To get familiar with some of them, write code to answer these questions:\n",
    "\n",
    "a. The output of the transform (also of fit_transform) is a sparse matrix: http://docs.scipy.org/doc/scipy-0.14.0/reference/generated/scipy.sparse.csr_matrix.html. What is the size of the vocabulary? What is the average number of non-zero features per example? What fraction of the entries in the matrix are non-zero? Hint: use \"nnz\" and \"shape\" attributes.\n",
    "\n",
    "b. What are the 0th and last feature strings (in alphabetical order)? Hint: use the vectorizer's get_feature_names function.\n",
    "\n",
    "c. Specify your own vocabulary with 4 words: [\"atheism\", \"graphics\", \"space\", \"religion\"]. Confirm the training vectors are appropriately shaped. Now what's the average number of non-zero features per example?\n",
    "\n",
    "d. Instead of extracting unigram word features, use \"analyzer\" and \"ngram_range\" to extract bigram and trigram character features. What size vocabulary does this yield?\n",
    "\n",
    "e. Use the \"min_df\" argument to prune words that appear in fewer than 10 documents. What size vocabulary does this yield?\n",
    "\n",
    "f. Using the standard CountVectorizer, what fraction of the words in the dev data are missing from the vocabulary? Hint: build a vocabulary for both train and dev and look at the size of the difference."
   ]
  },
  {
   "cell_type": "code",
   "execution_count": 299,
   "metadata": {
    "collapsed": false
   },
   "outputs": [
    {
     "name": "stdout",
     "output_type": "stream",
     "text": [
      "The size of the vocabulary is:  26879\n",
      "Fraction of entries that are non-zero is: 63562/8912028\n",
      "The 0th and last feature strings are:  00 zyxel\n",
      "(2034, 4)\n",
      "546\n",
      "With the new four word vocabulary, the average number of non-zero features is 546\n",
      "(2034, 35478)\n",
      "The size of the vocabulary using bigram and trigram character features is:  72162252\n",
      "(2034, 3064)\n",
      "The size of the vocabulary when using min_df=10 is:  6232176\n",
      "16246\n",
      "4027\n",
      "the fraction of the words from dev data missiong in dev data is 4027/16246, or  0.25\n"
     ]
    }
   ],
   "source": [
    "import numpy as np\n",
    "#from __future__ import division\n",
    "vocab = [\"atheism\", \"graphics\", \"space\", \"religion\"]\n",
    "\n",
    "\n",
    "def P2():\n",
    "    vectorizer = CountVectorizer()\n",
    "    a = vectorizer.fit_transform(train_data)\n",
    "    #size of the vocabulary\n",
    "    print 'The size of the vocabulary is: ', len(vectorizer.vocabulary_)\n",
    "    #Fraction of entries in the matrix that are non-zero\n",
    "    print 'Fraction of entries that are non-zero is: 63562/8912028'\n",
    "    #0th and last feature strings\n",
    "    print 'The 0th and last feature strings are: ', vectorizer.get_feature_names()[0], vectorizer.get_feature_names()[-1]\n",
    "    vectorizer = CountVectorizer(min_df=1, vocabulary = [\"atheism\", \"graphics\", \"space\", \"religion\"])\n",
    "    b = vectorizer.fit_transform(train_data)\n",
    "    print b.shape\n",
    "    print b.nnz\n",
    "    print 'With the new four word vocabulary, the average number of non-zero features is 546'\n",
    "    vectorizer = CountVectorizer(input=train_data, ngram_range=(2,3), analyzer='char')\n",
    "    c = vectorizer.fit_transform(train_data).toarray()\n",
    "    print c.shape\n",
    "    print \"The size of the vocabulary using bigram and trigram character features is: \", 2034*35478\n",
    "    vectorizer = CountVectorizer(input=train_data, min_df=10)\n",
    "    d = vectorizer.fit_transform(train_data).toarray()\n",
    "    print d.shape\n",
    "    print 'The size of the vocabulary when using min_df=10 is: ', 2034*3064\n",
    "    vectorizer_dev = CountVectorizer(input = dev_data)\n",
    "    e = vectorizer_dev.fit_transform(dev_data)\n",
    "    dev_vocab = set(vectorizer_dev.vocabulary_)\n",
    "    vectorizer_test = CountVectorizer(input = train_data)\n",
    "    f = vectorizer_test.fit_transform(train_data)\n",
    "    train_vocab = set(vectorizer_test.vocabulary_)\n",
    "    print len(list(set(dev_vocab)))\n",
    "    print len([x for x in dev_vocab if x not in train_vocab])\n",
    "    print 'the fraction of the words from dev data missiong in dev data is 4027/16246, or ', 0.25\n",
    "\n",
    "\n",
    "    \n",
    "\n",
    "P2()"
   ]
  },
  {
   "cell_type": "markdown",
   "metadata": {},
   "source": [
    "(3) Use the default CountVectorizer options and report the f1 score (use metrics.f1_score) for a k nearest neighbors classifier; find the optimal value for k. Also fit a Multinomial Naive Bayes model and find the optimal value for alpha. Finally, fit a logistic regression model and find the optimal value for the regularization strength C using l2 regularization. A few questions:\n",
    "\n",
    "a. Why doesn't nearest neighbors work well for this problem?\n",
    "\n",
    "b. Any ideas why logistic regression doesn't work as well as Naive Bayes?\n",
    "\n",
    "c. Logistic regression estimates a weight vector for each class, which you can access with the coef\\_ attribute. Output the sum of the squared weight values for each class for each setting of the C parameter. Briefly explain the relationship between the sum and the value of C."
   ]
  },
  {
   "cell_type": "code",
   "execution_count": 306,
   "metadata": {
    "collapsed": false,
    "scrolled": true
   },
   "outputs": [
    {
     "name": "stdout",
     "output_type": "stream",
     "text": [
      "0.383136094675\n",
      "0.383136094675\n",
      "Optimal value for k:  {'n_neighbors': 1}\n",
      "NB:  0.698224852071\n",
      "NB f1 score:  0.698224852071\n",
      "Optimal value for alpha:  {'alpha': 0.0001}\n",
      "Logit:  0.713017751479\n",
      "Logit f1 score:  0.713017751479\n",
      "Optimal value for C:  {'C': 0.2}\n",
      "[49.747626091588749, 42.745401464104731, 49.330619544924588, 42.668313996094497]\n",
      "[mean: 0.50688, std: 0.03202, params: {'C': 0.0001}, mean: 0.73402, std: 0.00750, params: {'C': 0.01}, mean: 0.76303, std: 0.00332, params: {'C': 0.05}, mean: 0.76647, std: 0.00299, params: {'C': 0.1}, mean: 0.77630, std: 0.00198, params: {'C': 0.2}, mean: 0.77089, std: 0.00230, params: {'C': 0.3}, mean: 0.77139, std: 0.00337, params: {'C': 0.5}, mean: 0.76303, std: 0.00306, params: {'C': 1}, mean: 0.75418, std: 0.00137, params: {'C': 10}, mean: 0.74730, std: 0.00421, params: {'C': 100}, mean: 0.74336, std: 0.01256, params: {'C': 1000}]\n",
      "Sum of squared weight values for each class: \n",
      "\n",
      "[0.0077017494467523737, 0.011941200310606512, 0.0094350768656394305, 0.0091028352938319051]\n",
      "Sum of squared weight values for each class: \n",
      "\n",
      "[2.5414876825471953, 2.9397093683556812, 2.8624691016880601, 2.2500291895155713]\n",
      "Sum of squared weight values for each class: \n",
      "\n",
      "[14.073477480878658, 13.670525807868028, 14.604524709767155, 11.860679431957669]\n",
      "Sum of squared weight values for each class: \n",
      "\n",
      "[27.136235125451933, 24.659567323465453, 27.458723479360522, 23.025997170424464]\n",
      "Sum of squared weight values for each class: \n",
      "\n",
      "[49.747626091588749, 42.745401464104731, 49.330619544924588, 42.668313996094497]\n",
      "Sum of squared weight values for each class: \n",
      "\n",
      "[69.309734653117616, 57.889590220492671, 67.917403572635635, 59.770283905393221]\n",
      "Sum of squared weight values for each class: \n",
      "\n",
      "[102.5134636491365, 83.10215977755297, 98.982649580386934, 88.998613715383982]\n",
      "Sum of squared weight values for each class: \n",
      "\n",
      "[167.0109870435723, 130.94138856060343, 157.91547138174224, 145.74696791108497]\n",
      "Sum of squared weight values for each class: \n",
      "\n",
      "[586.75372095027626, 448.43848854723751, 537.96511870921302, 530.73592638942728]\n",
      "Sum of squared weight values for each class: \n",
      "\n",
      "[952.70154008895429, 1096.4711774807922, 1293.3579874125662, 1314.8702442768154]\n",
      "Sum of squared weight values for each class: \n",
      "\n",
      "[2714.871584246619, 1918.1420947817244, 2462.3975616220682, 2558.4199696468168]\n"
     ]
    }
   ],
   "source": [
    "from sklearn import neighbors\n",
    "from sklearn.neighbors import KNeighborsClassifier\n",
    "\n",
    "def P3():\n",
    "    vectorizer = CountVectorizer() \n",
    "    train_data_counts = vectorizer.fit_transform(train_data)\n",
    "    dev_data_counts = vectorizer.transform(dev_data)\n",
    "    #clf = neighbors.KNeighborsClassifier()\n",
    "    clf = GridSearchCV(KNeighborsClassifier(), n_neighbors)\n",
    "    clf.fit(train_data_counts, train_labels)\n",
    "    predicted = clf.predict(dev_data_counts)\n",
    "    print metrics.accuracy_score(predicted, dev_labels)\n",
    "    print metrics.f1_score(predicted, dev_labels, average='micro')\n",
    "    print 'Optimal value for k: ', clf.best_params_\n",
    "    clf2 = GridSearchCV(BernoulliNB(), alphas)\n",
    "    clf2.fit(train_data_counts, train_labels)\n",
    "    predicted2 = clf2.predict(dev_data_counts)\n",
    "    print 'NB: ', metrics.accuracy_score(predicted2, dev_labels)\n",
    "    print 'NB f1 score: ', metrics.f1_score(predicted2, dev_labels, average='micro')  \n",
    "    print 'Optimal value for alpha: ', clf2.best_params_\n",
    "    clf3 = GridSearchCV(LogisticRegression(), reg)\n",
    "    clf3.fit(train_data_counts, train_labels)\n",
    "    predicted3 = clf3.predict(dev_data_counts)\n",
    "    print 'Logit: ', metrics.accuracy_score(predicted3, dev_labels)\n",
    "    print 'Logit f1 score: ', metrics.f1_score(predicted3, dev_labels, average='micro')\n",
    "    print 'Optimal value for C: ', clf3.best_params_\n",
    "    weights = clf3.best_estimator_.coef_\n",
    "    print [sum([x ** 2 for x in weights[n]]) for n in range(0, len(weights))]\n",
    "    print clf3.grid_scores_\n",
    "    for items in c_values:\n",
    "        clf4 = LogisticRegression(C=items)\n",
    "        clf4.fit(train_data_counts, train_labels)\n",
    "        predicted4 = clf4.predict(dev_data_counts)\n",
    "        print 'Sum of squared weight values for each class: \\n'\n",
    "        print [sum([x ** 2 for x in clf4.coef_[n]]) for n in range(0, len(clf4.coef_))]\n",
    "\n",
    "n_neighbors = [{'n_neighbors': np.arange(1,5)}]    \n",
    "alphas = {'alpha': [0.0, 0.0001, 0.001, 0.01, 0.1, 0.5, 1.0, 2.0, 10.0]}\n",
    "reg = [{'C': [.0001, .01, .05, 0.1,  .2, .3, .5, 1 , 10, 100, 1000]}]\n",
    "c_values = [.0001, .01, .05, 0.1,  .2, .3, .5, 1 , 10, 100, 1000]\n",
    "\n",
    "P3()"
   ]
  },
  {
   "cell_type": "markdown",
   "metadata": {},
   "source": [
    "ANSWER:\n",
    "\n",
    "a: Nearest neighbors does not work well for this type of problem because the distinct words that classify each \\\n",
    "document is a small subset of the words in each category. KNN, without giving heavier weights to certain words \\\n",
    "will fail to properly categorize because of the high number of similar words in each category.\n",
    "\n",
    "b: My f1_score is actually higher for logistic regression. This is likely because NB is giving high weights to repeated and similar features, while logistic regression corrects for these correlated featurres by lowering their weights. This would lead to a higher accuracy on the dev set."
   ]
  },
  {
   "cell_type": "markdown",
   "metadata": {},
   "source": [
    "(4) Train a logistic regression model. Find the 5 features with the largest weights for each label -- 20 features in total. Create a table with 20 rows and 4 columns that shows the weight for each of these features for each of the labels. Create the table again with bigram features. Any surprising features in this table?"
   ]
  },
  {
   "cell_type": "code",
   "execution_count": 301,
   "metadata": {
    "collapsed": false
   },
   "outputs": [
    {
     "name": "stdout",
     "output_type": "stream",
     "text": [
      "\t['alt.atheism', 'sci.space', 'comp.graphics', 'talk.religion.misc']\n",
      "bobby \t[ 1.64446797 -0.47490377 -0.57718713 -0.69738609]\n",
      "atheists \t[ 1.69940656 -0.43172436 -0.60300781 -0.90558928]\n",
      "islam \t[ 1.84709832 -0.54021021 -0.7282085  -0.68003349]\n",
      "religion \t[ 1.95522998 -0.98315954 -1.31486908  0.25389442]\n",
      "atheism \t[ 2.17239658 -0.7690863  -0.82429017 -0.84797607]\n",
      "3d \t[-0.67361769  2.04381006 -1.05789205 -0.58262134]\n",
      "files \t[-0.94829185  2.12638604 -0.81855027 -0.94595413]\n",
      "file \t[-0.66366705  2.44987212 -1.3939139  -0.91365542]\n",
      "image \t[-0.94861908  2.60338375 -1.39513925 -0.77746394]\n",
      "graphics \t[-1.45853394  4.03867113 -2.25569511 -1.27458554]\n",
      "moon \t[-0.85991597 -0.94707703  1.92333672 -0.40856257]\n",
      "launch \t[-0.78567104 -0.86528508  2.01019631 -0.69237602]\n",
      "orbit \t[-0.73643185 -1.00528622  2.17822584 -0.73398721]\n",
      "nasa \t[-1.05386901 -1.01426816  2.50335279 -1.02259809]\n",
      "space \t[-2.16368201 -2.50088606  5.48995446 -2.10169937]\n",
      "god \t[ 1.28495653 -1.66670715 -2.12787249  1.61891353]\n",
      "he \t[ 0.44170451 -1.4511845  -1.10360071  1.91790632]\n",
      "christians \t[-0.75927014 -0.59187126 -0.78725513  1.96685437]\n",
      "christian \t[-0.81594033 -0.72055497 -0.85813662  2.23451585]\n",
      "jesus \t[-0.92683759 -0.75589786 -1.17115551  2.24613966]\n"
     ]
    }
   ],
   "source": [
    "from sklearn.feature_extraction.text import TfidfVectorizer\n",
    "categories = ['alt.atheism', 'talk.religion.misc', 'comp.graphics', 'sci.space']\n",
    "\n",
    "def P4():\n",
    "    vectorizer = TfidfVectorizer() \n",
    "    train_data_counts = vectorizer.fit_transform(train_data)\n",
    "    dev_data_counts = vectorizer.transform(dev_data)\n",
    "    logit = LogisticRegression()\n",
    "    logit.fit(train_data_counts, train_labels)\n",
    "    logit.predict(dev_data_counts)\n",
    "    idf = vectorizer.idf_\n",
    "    print '\\t', ['alt.atheism', 'sci.space', 'comp.graphics', 'talk.religion.misc']\n",
    "    for i in range(len(logit.coef_)):\n",
    "        sorted_weights = sorted(logit.coef_[i])\n",
    "        top_weights = sorted_weights[-5:]\n",
    "        #print top_weights\n",
    "        for weights in top_weights:\n",
    "            index = logit.coef_[i].tolist().index(weights)\n",
    "            print vectorizer.get_feature_names()[index], '\\t', logit.coef_[:, index]\n",
    "\n",
    "\n",
    "\n",
    "\n",
    "P4()"
   ]
  },
  {
   "cell_type": "markdown",
   "metadata": {},
   "source": [
    "ANSWER:\n",
    "\n",
    "            ['alt.atheism', 'sci.space', 'comp.graphics', 'talk.religion.misc']\n",
    "    bobby \t[ 1.64446797 -0.47490377 -0.57718713 -0.69738609]\n",
    "atheists \t[ 1.69940656 -0.43172436 -0.60300781 -0.90558928]\n",
    "    islam \t[ 1.84709832 -0.54021021 -0.7282085  -0.68003349]\n",
    "religion \t[ 1.95522998 -0.98315954 -1.31486908  0.25389442]\n",
    "atheism \t[ 2.17239658 -0.7690863  -0.82429017 -0.84797607]\n",
    "        3d \t[-0.67361769  2.04381006 -1.05789205 -0.58262134]\n",
    "    files \t[-0.94829185  2.12638604 -0.81855027 -0.94595413]\n",
    "    file \t[-0.66366705  2.44987212 -1.3939139  -0.91365542]\n",
    "    image \t[-0.94861908  2.60338375 -1.39513925 -0.77746394]\n",
    "graphics \t[-1.45853394  4.03867113 -2.25569511 -1.27458554]\n",
    "    moon \t[-0.85991597 -0.94707703  1.92333672 -0.40856257]\n",
    "    launch \t[-0.78567104 -0.86528508  2.01019631 -0.69237602]\n",
    "    orbit \t[-0.73643185 -1.00528622  2.17822584 -0.73398721]\n",
    "    nasa \t[-1.05386901 -1.01426816  2.50335279 -1.02259809]\n",
    "    space \t[-2.16368201 -2.50088606  5.48995446 -2.10169937]\n",
    "    god \t[ 1.28495653 -1.66670715 -2.12787249  1.61891353]\n",
    "        he \t[ 0.44170451 -1.4511845  -1.10360071  1.91790632]\n",
    "christians \t[-0.75927014 -0.59187126 -0.78725513  1.96685437]\n",
    "christian \t[-0.81594033 -0.72055497 -0.85813662  2.23451585]\n",
    "    jesus \t[-0.92683759 -0.75589786 -1.17115551  2.24613966]"
   ]
  },
  {
   "cell_type": "markdown",
   "metadata": {},
   "source": [
    "(5) Try to improve the logistic regression classifier by passing a custom preprocessor to CountVectorizer. The preprocessing function runs on the raw text, before it is split into words by the tokenizer. Your preprocessor should try to normalize the input in various ways to improve generalization. For example, try lowercasing everything, replacing sequences of numbers with a single token, removing various other non-letter characters, and shortening long words. If you're not already familiar with regular expressions for manipulating strings, see https://docs.python.org/2/library/re.html, and re.sub() in particular. With your new preprocessor, how much did you reduce the size of the dictionary?\n",
    "\n",
    "For reference, I was able to improve dev F1 by 2 points."
   ]
  },
  {
   "cell_type": "code",
   "execution_count": 302,
   "metadata": {
    "collapsed": false
   },
   "outputs": [
    {
     "name": "stdout",
     "output_type": "stream",
     "text": [
      "The size of the dictionary was reduced from 33291 to 17715. I lowercased and disemvowled all words. I also replaced digits with a single feature and removed special characters.\n",
      "0.711538461538\n",
      "17715\n",
      "0.707100591716\n",
      "33291\n"
     ]
    }
   ],
   "source": [
    "def empty_preprocessor(s):\n",
    "    return s\n",
    "\n",
    "def better_preprocessor(s):\n",
    "    s = s.lower()\n",
    "    s = s.rstrip()\n",
    "    s = s.lstrip()\n",
    "    s = re.sub('[^0-9a-zA-Z]+', '*', s)\n",
    "    s = re.sub('[0-9]+', '0', s)\n",
    "    s = re.sub(r'[aeiou]', '', s, flags=re.IGNORECASE)\n",
    "    return s\n",
    "\n",
    "### STUDENT END ###\n",
    "\n",
    "def P5():\n",
    "    vectorizer = CountVectorizer(preprocessor=better_preprocessor) \n",
    "    train_data_counts = vectorizer.fit_transform(train_data)\n",
    "    dev_data_counts = vectorizer.transform(dev_data)\n",
    "    logit = LogisticRegression()\n",
    "    logit.fit(train_data_counts, train_labels)\n",
    "    predicted = logit.predict(dev_data_counts)\n",
    "    print metrics.accuracy_score(predicted, dev_labels)\n",
    "    print len(vectorizer.vocabulary_)\n",
    "    vectorizer_empty = CountVectorizer(preprocessor=empty_preprocessor) \n",
    "    train_data_counts_empty = vectorizer_empty.fit_transform(train_data)\n",
    "    dev_data_counts_empty = vectorizer_empty.transform(dev_data)\n",
    "    logit.fit(train_data_counts_empty, train_labels)\n",
    "    predicted_empty = logit.predict(dev_data_counts_empty)\n",
    "    print metrics.accuracy_score(predicted_empty, dev_labels)\n",
    "    print len(vectorizer_empty.vocabulary_)\n",
    "\n",
    "print \"The size of the dictionary was reduced from 33291 to 17715. I lowercased and disemvowled all words. I also \\\n",
    "replaced digits with a single feature and removed special characters.\"\n",
    "    \n",
    "\n",
    "### STUDENT END ###\n",
    "P5()"
   ]
  },
  {
   "cell_type": "markdown",
   "metadata": {},
   "source": [
    "(6) The idea of regularization is to avoid learning very large weights (which are likely to fit the training data, but not generalize well) by adding a penalty to the total size of the learned weights. That is, logistic regression seeks the set of weights that minimizes errors in the training data AND has a small size. The default regularization, L2, computes this size as the sum of the squared weights (see P3, above). L1 regularization computes this size as the sum of the absolute values of the weights. The result is that whereas L2 regularization makes all the weights relatively small, L1 regularization drives lots of the weights to 0, effectively removing unimportant features.\n",
    "\n",
    "Train a logistic regression model using a \"l1\" penalty. Output the number of learned weights that are not equal to zero. How does this compare to the number of non-zero weights you get with \"l2\"? Now, reduce the size of the vocabulary by keeping only those features that have at least one non-zero weight and retrain a model using \"l2\".\n",
    "\n",
    "Make a plot showing accuracy of the re-trained model vs. the vocabulary size you get when pruning unused features by adjusting the C parameter.\n",
    "\n",
    "Note: The gradient descent code that trains the logistic regression model sometimes has trouble converging with extreme settings of the C parameter. Relax the convergence criteria by setting tol=.01 (the default is .0001)."
   ]
  },
  {
   "cell_type": "code",
   "execution_count": 303,
   "metadata": {
    "collapsed": false
   },
   "outputs": [
    {
     "name": "stdout",
     "output_type": "stream",
     "text": [
      "436\n",
      "410\n",
      "390\n",
      "373\n",
      "26879\n",
      "26879\n",
      "26879\n",
      "26879\n",
      "The l1 model reduced the vocab sizes to 436, 410, 390, and 373 when removing zeros.     The l2 model did not drive any weights down to 0, leaving the number of weights at 26879.\n",
      "0.244082840237 0\n",
      "0.244082840237 0\n",
      "0.244082840237 0\n",
      "0.244082840237 0\n",
      "0.244082840237 0\n",
      "0.244082840237 0\n",
      "0.244082840237 0\n",
      "0.244082840237 0\n",
      "0.46449704142 9\n",
      "0.46449704142 9\n",
      "0.46449704142 7\n",
      "0.46449704142 10\n",
      "0.585798816568 42\n",
      "0.585798816568 40\n",
      "0.585798816568 35\n",
      "0.585798816568 53\n",
      "0.618343195266 82\n",
      "0.618343195266 61\n",
      "0.618343195266 62\n",
      "0.618343195266 89\n",
      "0.656804733728 140\n",
      "0.656804733728 83\n",
      "0.656804733728 111\n",
      "0.656804733728 140\n",
      "0.665680473373 170\n",
      "0.665680473373 113\n",
      "0.665680473373 136\n",
      "0.665680473373 195\n",
      "0.662721893491 213\n",
      "0.662721893491 153\n",
      "0.662721893491 178\n",
      "0.662721893491 269\n",
      "0.646449704142 262\n",
      "0.646449704142 213\n",
      "0.646449704142 227\n",
      "0.646449704142 356\n",
      "0.636094674556 363\n",
      "0.636094674556 349\n",
      "0.636094674556 362\n",
      "0.636094674556 356\n",
      "0.619822485207 368\n",
      "0.619822485207 366\n",
      "0.619822485207 370\n",
      "0.619822485207 369\n",
      "0.630177514793 371\n",
      "0.630177514793 373\n",
      "0.630177514793 373\n",
      "0.630177514793 373\n"
     ]
    },
    {
     "data": {
      "image/png": "[encoded data removed]",
      "text/plain": [
       "<matplotlib.figure.Figure at 0x107f98c50>"
      ]
     },
     "metadata": {},
     "output_type": "display_data"
    }
   ],
   "source": [
    "def P6():\n",
    "    #Keep this random seed here to make comparison easier.\n",
    "    np.random.seed(0)\n",
    "    vectorizer = CountVectorizer() \n",
    "    train_data_counts = vectorizer.fit_transform(train_data)\n",
    "    dev_data_counts = vectorizer.transform(dev_data)\n",
    "    logit = LogisticRegression(penalty='l1')\n",
    "    logit.fit(train_data_counts, train_labels)\n",
    "    predicted = logit.predict(dev_data_counts)\n",
    "    for i in range(len(logit.coef_)):\n",
    "        print len(logit.coef_[i][logit.coef_[i] != 0])\n",
    "        x = np.array(logit.coef_[i])\n",
    "        non_zeros = np.where(x != 0)[0]\n",
    "    logit_l2 = LogisticRegression(penalty='l2')\n",
    "    logit_l2.fit(train_data_counts, train_labels)\n",
    "    predicted = logit_l2.predict(dev_data_counts)\n",
    "    for i in range(len(logit_l2.coef_)):\n",
    "        print len(logit_l2.coef_[i][logit_l2.coef_[i] != 0])\n",
    "    print \"The l1 model reduced the vocab sizes to 436, 410, 390, and 373 when removing zeros. \\\n",
    "    The l2 model did not drive any weights down to 0, leaving the number of weights at 26879.\"\n",
    "    vocab = [vectorizer.get_feature_names()[i] for i in non_zeros]\n",
    "    vectorizer_reduced = CountVectorizer(min_df=1, vocabulary = vocab)\n",
    "    train_data_counts_reduced = vectorizer_reduced.fit_transform(train_data)\n",
    "    dev_data_counts_reduced = vectorizer_reduced.transform(dev_data)\n",
    "    acc_list = []\n",
    "    vocab_len = []\n",
    "    for items in c_values:\n",
    "        logit_c = LogisticRegression(penalty='l1', tol=0.01, C=items)\n",
    "        logit_c.fit(train_data_counts_reduced, train_labels)\n",
    "        predicted_c = logit_c.predict(dev_data_counts_reduced)\n",
    "        acc = metrics.accuracy_score(predicted_c, dev_labels)\n",
    "        for i in range(len(logit_c.coef_)):\n",
    "            print acc, len(logit_c.coef_[i][logit_c.coef_[i] != 0])\n",
    "            acc_list.append(acc)\n",
    "            vocab_len.append(len(logit_c.coef_[i][logit_c.coef_[i] != 0]))\n",
    "    plt.plot(acc_list, vocab_len)\n",
    "\n",
    "            \n",
    "\n",
    "c_values = [0.00000000001, .0001, .01, .05, 0.1,  .2, .3, .5, 1 , 10, 100, 1000]\n",
    "\n",
    "P6()\n",
    "\n"
   ]
  },
  {
   "cell_type": "markdown",
   "metadata": {},
   "source": [
    "(7) Use the TfidfVectorizer -- how is this different from the CountVectorizer? Train a logistic regression model with C=100.\n",
    "\n",
    "Make predictions on the dev data and show the top 3 documents where the ratio R is largest, where R is:\n",
    "\n",
    "maximum predicted probability / predicted probability of the correct label\n",
    "\n",
    "What kinds of mistakes is the model making? Suggest a way to address one particular issue that you see."
   ]
  },
  {
   "cell_type": "code",
   "execution_count": 304,
   "metadata": {
    "collapsed": false
   },
   "outputs": [
    {
     "name": "stdout",
     "output_type": "stream",
     "text": [
      "[ 287.17920279  325.00408735  929.35805306]\n",
      "676\n",
      "[ 0.00242095  0.02006482  0.2822689   0.69524534] 0\n",
      "[ 0.00291046  0.97974561  0.01432936  0.00301456] 3\n",
      "[ 0.00196563  0.99372025  0.00324486  0.00106925] 3\n"
     ]
    }
   ],
   "source": [
    "#('labels names:', ['alt.atheism', 'comp.graphics', 'sci.space', 'talk.religion.misc'])\n",
    "def P7():\n",
    "    vectorizer = TfidfVectorizer() \n",
    "    train_data_counts = vectorizer.fit_transform(train_data)\n",
    "    dev_data_counts = vectorizer.transform(dev_data)\n",
    "    logit = LogisticRegression(C=100)\n",
    "    logit.fit(train_data_counts, train_labels)\n",
    "    predicted = logit.predict(dev_data_counts)\n",
    "    R = []\n",
    "    for items, labels in zip(logit.predict_proba(dev_data_counts), dev_labels):\n",
    "        R.append(max(items)/items[labels])\n",
    "    sorted_r = np.sort(R)\n",
    "    top_r = sorted_r[-3:]\n",
    "    print top_r\n",
    "    print len(R)\n",
    "    for rs in top_r:\n",
    "        index = R.index(rs)\n",
    "        print logit.predict_proba(dev_data_counts)[index], dev_labels[index]\n",
    "P7()"
   ]
  },
  {
   "cell_type": "markdown",
   "metadata": {},
   "source": [
    "ANSWER: The misc regligion and atheism categories seem easy to mix up. Potentially removing the word \"atheism\" from the general religion category can help improve the correct calling of the atheism category."
   ]
  },
  {
   "cell_type": "markdown",
   "metadata": {},
   "source": [
    "(8) EXTRA CREDIT\n",
    "\n",
    "Try implementing one of your ideas based on your error analysis. Use logistic regression as your underlying model."
   ]
  },
  {
   "cell_type": "code",
   "execution_count": null,
   "metadata": {
    "collapsed": true
   },
   "outputs": [],
   "source": []
  }
 ],
 "metadata": {
  "kernelspec": {
   "display_name": "Python 2",
   "language": "python",
   "name": "python2"
  },
  "language_info": {
   "codemirror_mode": {
    "name": "ipython",
    "version": 2
   },
   "file_extension": ".py",
   "mimetype": "text/x-python",
   "name": "python",
   "nbconvert_exporter": "python",
   "pygments_lexer": "ipython2",
   "version": "2.7.11"
  }
 },
 "nbformat": 4,
 "nbformat_minor": 0
}
